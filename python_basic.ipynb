{
 "cells": [
  {
   "attachments": {},
   "cell_type": "markdown",
   "metadata": {},
   "source": [
    "### First Python Program"
   ]
  },
  {
   "cell_type": "code",
   "execution_count": null,
   "metadata": {},
   "outputs": [],
   "source": [
    "print(\"Hello World\")"
   ]
  },
  {
   "attachments": {},
   "cell_type": "markdown",
   "metadata": {},
   "source": [
    "### For Loop"
   ]
  },
  {
   "cell_type": "code",
   "execution_count": null,
   "metadata": {},
   "outputs": [],
   "source": [
    "list1 = [1, 2, 3, 4, 5]\n",
    "for number in list1:\n",
    "    print(number)\n",
    "    if number == 4:\n",
    "        break\n",
    "print(\"End of loop\")"
   ]
  },
  {
   "attachments": {},
   "cell_type": "markdown",
   "metadata": {},
   "source": [
    "### Functions in Python"
   ]
  },
  {
   "cell_type": "code",
   "execution_count": null,
   "metadata": {},
   "outputs": [],
   "source": [
    "# Declaring a function\n",
    "def add():\n",
    "    # Defining local variables\n",
    "    a = 20\n",
    "    b = 30\n",
    "    c = a + b\n",
    "    print(\"The sum is:\", c)\n",
    "\n",
    "# Calling a function\n",
    "add()\n",
    "# Accessing local variable outside a function\n",
    "# print(a)"
   ]
  },
  {
   "attachments": {},
   "cell_type": "markdown",
   "metadata": {},
   "source": [
    "### Global variables"
   ]
  },
  {
   "cell_type": "code",
   "execution_count": null,
   "metadata": {},
   "outputs": [],
   "source": [
    "# Declaring a variable and initializing it\n",
    "x = 101\n",
    "\n",
    "# Global variable in function\n",
    "def main_function():\n",
    "    # printing global variable\n",
    "    global x\n",
    "    print(x)\n",
    "    # modifying a global variable\n",
    "    x = \"Welcome to Python 101\"\n",
    "    print(x)\n",
    "\n",
    "main_function()\n",
    "print(x)"
   ]
  },
  {
   "attachments": {},
   "cell_type": "markdown",
   "metadata": {},
   "source": [
    "### Deleting a variable"
   ]
  },
  {
   "cell_type": "code",
   "execution_count": null,
   "metadata": {},
   "outputs": [],
   "source": [
    "# Assign a value to x\n",
    "x = 7\n",
    "print(x)\n",
    "\n",
    "# deleting a variable\n",
    "del x\n",
    "# print(x)"
   ]
  },
  {
   "attachments": {},
   "cell_type": "markdown",
   "metadata": {},
   "source": [
    "### Data types"
   ]
  },
  {
   "cell_type": "code",
   "execution_count": null,
   "metadata": {},
   "outputs": [],
   "source": [
    "# Integer number\n",
    "a = 5\n",
    "# Floating point \n",
    "b = 12.3\n",
    "# Complex number\n",
    "c = 1 + 3j\n",
    "print(type(a),type(b), type(c))\n",
    "\n",
    "# Sequence Type: String\n",
    "\n",
    "s = \"String using double quotes\"\n",
    "print(s)\n",
    "\n",
    "string = '''\n",
    "\n",
    "Multiline Comment part 1\n",
    "            part 2\n",
    "            part 3\n",
    "            part 4\n",
    "'''\n",
    "\n",
    "print(string)"
   ]
  },
  {
   "attachments": {},
   "cell_type": "markdown",
   "metadata": {},
   "source": [
    "### String Handling"
   ]
  },
  {
   "cell_type": "code",
   "execution_count": null,
   "metadata": {},
   "outputs": [],
   "source": [
    "hello = \"Hello Python.\" # string number 1\n",
    "ask = \"How are you?\" # string number 2\n",
    "\n",
    "print(hello[0:2]) # printing first two character using slice operator\n",
    "print(hello[4]) # print 4th character of the string\n",
    "print(hello*3, end=\" \") # printing the string n=3 times\n",
    "print(hello + \" \" + ask) # printing the concatenation of two strings"
   ]
  },
  {
   "attachments": {},
   "cell_type": "markdown",
   "metadata": {},
   "source": [
    "### List Handling"
   ]
  },
  {
   "cell_type": "code",
   "execution_count": null,
   "metadata": {},
   "outputs": [],
   "source": [
    "list1 = [1, \"text\", \"python\", 2, \"Five\", 6, \"Matt\"]\n",
    "print(type(list1)) # Type of a given list\n",
    "print(list1) # Printing the list itself\n",
    "print(list1[3:]) # List slicing\n",
    "print(list1[0:2])\n",
    "print(list1 + list1) # list concatenation\n",
    "print(list1*3) # list repetation using * operator"
   ]
  },
  {
   "attachments": {},
   "cell_type": "markdown",
   "metadata": {},
   "source": [
    "### Tuple Handling"
   ]
  }
 ],
 "metadata": {
  "kernelspec": {
   "display_name": "Python 3",
   "language": "python",
   "name": "python3"
  },
  "language_info": {
   "codemirror_mode": {
    "name": "ipython",
    "version": 3
   },
   "file_extension": ".py",
   "mimetype": "text/x-python",
   "name": "python",
   "nbconvert_exporter": "python",
   "pygments_lexer": "ipython3",
   "version": "3.10.10"
  },
  "orig_nbformat": 4
 },
 "nbformat": 4,
 "nbformat_minor": 2
}
